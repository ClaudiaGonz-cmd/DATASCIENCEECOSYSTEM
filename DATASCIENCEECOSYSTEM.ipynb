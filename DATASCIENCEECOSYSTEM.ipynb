{
 "cells": [
  {
   "cell_type": "markdown",
   "metadata": {},
   "source": [
    "<center>\n",
    "    <img src=\"https://cf-courses-data.s3.us.cloud-object-storage.appdomain.cloud/IBMDeveloperSkillsNetwork-DS0105EN-SkillsNetwork/labs/Module2/images/SN_web_lightmode.png\" width=\"300\" alt=\"cognitiveclass.ai logo\">\n",
    "</center>\n"
   ]
  },
  {
   "cell_type": "markdown",
   "metadata": {},
   "source": [
    "<H1> DATA SCIENCE TOOLS AND ECOSYSTEM<H1>"
   ]
  },
  {
   "cell_type": "markdown",
   "metadata": {},
   "source": [
    "IN THIS NOTEBOOK DATA SCIENCE TOOLS AND ECOSYSTEM ARE SUMMARIZED"
   ]
  },
  {
   "cell_type": "markdown",
   "metadata": {},
   "source": [
    "OBJETIVES :\n",
    "\n",
    "* .ADD COMMENTS TO CODE CELS\n",
    "* .CREATE MARDOWN CELLS\n",
    "* .ADD ORDERED AN UNORDERED LISTS TO MARKDOWN CELLS\n",
    "* .FORMAT CONTENT OF MARDOWN CELLS WITH HEADLINES STYLES"
   ]
  },
  {
   "cell_type": "markdown",
   "metadata": {},
   "source": [
    "SOME OF THE POPULAR LANGUAGES THAT DATA SCIENTISTS USE ARE: "
   ]
  },
  {
   "cell_type": "markdown",
   "metadata": {},
   "source": [
    "ORDERER LIST: \n",
    "* 1.PYTHON\n",
    "* 2.R\n",
    "* 3.SQL\n",
    "* 4.SCALA\n",
    "* 5.JAVA\n",
    "* 6.C++\n",
    "* 7.JULIA\n",
    "* 8.JAVASCRIPT\n",
    "* 9.PHP\n",
    "* 10.GO"
   ]
  },
  {
   "cell_type": "markdown",
   "metadata": {},
   "source": [
    "SOME OF THE COMMONLY USED LIBRARIES USED BY DATA SCIENTISTS INCLUDE :"
   ]
  },
  {
   "cell_type": "markdown",
   "metadata": {},
   "source": [
    "ORDERER LIST:\n",
    "* 1.PANDAS\n",
    "* 2.NUMPY\n",
    "* 3.MATPLOTIB\n",
    "* 4.SEABORN\n",
    "* 5.SCKICIT LEARN\n",
    "* 6.KERAS\n",
    "* 7.TENSORFLOW\n",
    "* 8.PYTORCH\n",
    "* 9.APACHE SPARK\n",
    "* 10.VEGAS\n"
   ]
  },
  {
   "cell_type": "markdown",
   "metadata": {},
   "source": [
    "DATA SICENCE TOOLS :"
   ]
  },
  {
   "cell_type": "markdown",
   "metadata": {},
   "source": [
    "* ANACONDA\n",
    "* JUPYTER NOTEBOOKS\n",
    "* RSTUDIO\n",
    "* SPYDER\n",
    "* ZEPPELIN"
   ]
  },
  {
   "cell_type": "markdown",
   "metadata": {},
   "source": [
    "<H3>BELOW ARE A FEW EXAMPLES OF EVALUATING ARITHMETIC EXPRESSIONS IN PHYTON<H3>"
   ]
  },
  {
   "cell_type": "code",
   "execution_count": 1,
   "metadata": {
    "tags": []
   },
   "outputs": [
    {
     "data": {
      "text/plain": [
       "17"
      ]
     },
     "execution_count": 1,
     "metadata": {},
     "output_type": "execute_result"
    }
   ],
   "source": [
    "# THIS IS A SIMPLE ARITHMETIC EXPRESSION ON TO MULTIPLY THEN ADD INTEGERS\n",
    "RESULT = (3 * 4) + 5 \n",
    "RESULT"
   ]
  },
  {
   "cell_type": "code",
   "execution_count": 2,
   "metadata": {
    "tags": []
   },
   "outputs": [
    {
     "data": {
      "text/plain": [
       "3.3333333333333335"
      ]
     },
     "execution_count": 2,
     "metadata": {},
     "output_type": "execute_result"
    }
   ],
   "source": [
    "# THIS WILL CONVERT 200 MINUTES TO HOURS BY DIVIDING BY 60\n",
    "MINUTES = 200\n",
    "HOURS = MINUTES/60\n",
    "HOURS"
   ]
  },
  {
   "cell_type": "markdown",
   "metadata": {},
   "source": [
    "<H2>AUTHOR<H2>"
   ]
  },
  {
   "cell_type": "markdown",
   "metadata": {},
   "source": [
    "CLAUDIA GONZALEZ"
   ]
  },
  {
   "cell_type": "code",
   "execution_count": null,
   "metadata": {},
   "outputs": [],
   "source": []
  }
 ],
 "metadata": {
  "kernelspec": {
   "display_name": "Python",
   "language": "python",
   "name": "conda-env-python-py"
  },
  "language_info": {
   "codemirror_mode": {
    "name": "ipython",
    "version": 3
   },
   "file_extension": ".py",
   "mimetype": "text/x-python",
   "name": "python",
   "nbconvert_exporter": "python",
   "pygments_lexer": "ipython3",
   "version": "3.7.12"
  }
 },
 "nbformat": 4,
 "nbformat_minor": 4
}
